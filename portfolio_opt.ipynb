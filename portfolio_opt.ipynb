{
 "cells": [
  {
   "cell_type": "code",
   "execution_count": 1,
   "metadata": {},
   "outputs": [],
   "source": [
    "\n",
    "import numpy as np\n",
    "from numpy.linalg import inv, multi_dot\n",
    "from scipy.stats import norm\n",
    "from tabulate import tabulate\n",
    "\n",
    "# Import matplotlib for visualization\n",
    "import matplotlib.pyplot as plt"
   ]
  },
  {
   "cell_type": "code",
   "execution_count": 10,
   "metadata": {
    "collapsed": false,
    "pycharm": {
     "name": "#%%\n"
    }
   },
   "outputs": [],
   "source": [
    "# defining variables\n",
    "mu = np.array([[0.04], [0.08], [0.12], [0.15]])\n",
    "S = np.matrix([[0.07, 0, 0, 0], [0, 0.12, 0, 0], [0, 0, 0.18, 0], [0, 0, 0, 0.26]])\n",
    "R = np.matrix([[1, 0.2, 0.5, 0.3], [0.2, 1, 0.7, 0.4], [0.5, 0.7, 1, 0.9], [0.3, 0.4, 0.9, 1]])\n",
    "E = np.matmul(np.matmul(S, R), S)\n",
    "E_inv = np.linalg.inv(E)\n",
    "one = np.ones(4)\n",
    "\n",
    "m = 0.1"
   ]
  },
  {
   "cell_type": "code",
   "execution_count": 8,
   "metadata": {
    "collapsed": false,
    "pycharm": {
     "name": "#%%\n"
    }
   },
   "outputs": [
    {
     "data": {
      "text/plain": [
       "matrix([[0.0049 , 0.00168, 0.0063 , 0.00546],\n",
       "        [0.00168, 0.0144 , 0.01512, 0.01248],\n",
       "        [0.0063 , 0.01512, 0.0324 , 0.04212],\n",
       "        [0.00546, 0.01248, 0.04212, 0.0676 ]])"
      ]
     },
     "execution_count": 8,
     "metadata": {},
     "output_type": "execute_result"
    }
   ],
   "source": [
    "E"
   ]
  },
  {
   "cell_type": "code",
   "execution_count": 14,
   "metadata": {
    "pycharm": {
     "name": "#%%\n"
    }
   },
   "outputs": [],
   "source": [
    "def get_cov_matrix(stress = 1):\n",
    "    cov_mat = np.matmul(np.matmul(S, R*stress), S)\n",
    "    cov_mat_inv = np.linalg.inv(E)\n",
    "    return cov_mat, cov_mat_inv\n",
    "\n",
    "def get_factors(one, mu, E_inv):\n",
    "    A = np.array(one.T*E_inv).dot(one)\n",
    "    B = np.array(mu.T*E_inv).dot(one)\n",
    "    C = np.array(mu.T*E_inv).dot(mu)\n",
    "    return A, B, C\n",
    "\n",
    "def optimal_coeff(m, A, B, C):\n",
    "    lam = (A*m - B)/(A*C - B*B)\n",
    "    gam = (C - B*m)/(A*C - B*B)\n",
    "    return lam, gam\n",
    "\n",
    "def optimal_weights(m, stress = 1):\n",
    "    E , E_inv = get_cov_matrix(stress)\n",
    "    A, B, C = get_factors(one, mu, E_inv)\n",
    "    lam, gam = optimal_coeff(m, A, B, C)\n",
    "    return np.array(E_inv*(lam*mu + (gam*one).T))\n",
    "\n",
    "def get_return(weights, returns):\n",
    "    return  weights.T.dot(returns)[0]\n",
    "\n",
    "def get_std(weights, Cov_mat):\n",
    "    return np.sqrt(np.array(weights.T*Cov_mat).dot(weights))[0]\n",
    "\n",
    "# --------------Calculating for optimal weight------------------#\n",
    "\n",
    "w_opt = optimal_weights(m, stress=1)\n",
    "\n",
    "# calculating return and vol using optimal weights\n",
    "m_opt = get_return(w_opt, mu)\n",
    "rho_opt = get_std(w_opt, E)"
   ]
  },
  {
   "cell_type": "code",
   "execution_count": 25,
   "metadata": {
    "collapsed": false,
    "pycharm": {
     "name": "#%%\n"
    }
   },
   "outputs": [
    {
     "data": {
      "text/plain": [
       "array([[ 0.05867697],\n",
       "       [ 0.75902696],\n",
       "       [-0.31954512],\n",
       "       [ 0.50184119]])"
      ]
     },
     "execution_count": 25,
     "metadata": {},
     "output_type": "execute_result"
    }
   ],
   "source": [
    "# Optimal Weight for assets\n",
    "w_opt\n"
   ]
  },
  {
   "cell_type": "markdown",
   "metadata": {
    "pycharm": {
     "name": "#%% md\n"
    }
   },
   "source": []
  },
  {
   "cell_type": "code",
   "execution_count": 112,
   "metadata": {
    "collapsed": false,
    "pycharm": {
     "name": "#%%\n"
    }
   },
   "outputs": [],
   "source": [
    "# implementing stress on correlation matrix\n",
    "stress_factor = [1, 1.25, 1.5]\n",
    "opt_weights = [ optimal_weights(m, stress= i) for i in stress_factor]\n"
   ]
  },
  {
   "cell_type": "code",
   "execution_count": 114,
   "metadata": {
    "collapsed": false,
    "pycharm": {
     "name": "#%%\n"
    }
   },
   "outputs": [
    {
     "data": {
      "text/plain": [
       "array([[[0.78511066],\n",
       "        [0.05386419],\n",
       "        [0.13355472],\n",
       "        [0.02747042]],\n",
       "\n",
       "       [[0.78511066],\n",
       "        [0.05386419],\n",
       "        [0.13355472],\n",
       "        [0.02747042]],\n",
       "\n",
       "       [[0.78511066],\n",
       "        [0.05386419],\n",
       "        [0.13355472],\n",
       "        [0.02747042]]])"
      ]
     },
     "execution_count": 114,
     "metadata": {},
     "output_type": "execute_result"
    }
   ],
   "source": [
    "np.array(opt_weights)"
   ]
  },
  {
   "cell_type": "code",
   "execution_count": 17,
   "metadata": {
    "pycharm": {
     "name": "#%%\n"
    }
   },
   "outputs": [],
   "source": [
    "# Simulating 2000 portfolios\n",
    "\n",
    "wts = np.array([np.random.dirichlet(np.ones(4), size=1)[0] for i in range(2000)])\n",
    "vol = np.zeros(2000)\n",
    "ret = np.zeros(2000)\n",
    "\n",
    "for i in range(2000):\n",
    "    vol[i] = np.sqrt(np.array(wts[i].T*E).dot(wts[i]))[0]\n",
    "    ret[i] = wts[i].dot(mu)[0]\n"
   ]
  },
  {
   "cell_type": "code",
   "execution_count": 31,
   "metadata": {
    "collapsed": false,
    "pycharm": {
     "name": "#%%\n"
    }
   },
   "outputs": [],
   "source": [
    "rho_opt = 0.025774729325875177\n",
    "m_opt = 0.033608\n"
   ]
  },
  {
   "cell_type": "code",
   "execution_count": 32,
   "metadata": {
    "collapsed": false,
    "pycharm": {
     "name": "#%%\n"
    }
   },
   "outputs": [
    {
     "data": {
      "image/png": "[encoded data removed]",
      "text/plain": [
       "<Figure size 1080x720 with 1 Axes>"
      ]
     },
     "metadata": {
      "needs_background": "light"
     },
     "output_type": "display_data"
    }
   ],
   "source": [
    "plt.figure(figsize=(15,10))\n",
    "plt.scatter(vol, ret )\n",
    "plt.scatter(rho_opt, m_opt, c = 'r', marker='s', s = 100)\n",
    "plt.xlabel('std')\n",
    "plt.ylabel('return')\n",
    "plt.legend(['random portfolio', 'optimal portolio'])\n",
    "plt.title('Simulation of 2000 random portfolio allocations')\n",
    "plt.show()"
   ]
  },
  {
   "cell_type": "code",
   "execution_count": 19,
   "metadata": {
    "collapsed": false,
    "pycharm": {
     "name": "#%%\n"
    }
   },
   "outputs": [],
   "source": [
    "wts_t = np.zeros(shape=(4,4))\n",
    "r  = [0.005, 0.01, 0.015, 0.0175]"
   ]
  },
  {
   "cell_type": "code",
   "execution_count": 20,
   "metadata": {
    "collapsed": false,
    "pycharm": {
     "name": "#%%\n"
    }
   },
   "outputs": [
    {
     "ename": "NameError",
     "evalue": "name 'B' is not defined",
     "output_type": "error",
     "traceback": [
      "\u001B[0;31m---------------------------------------------------------------------------\u001B[0m",
      "\u001B[0;31mNameError\u001B[0m                                 Traceback (most recent call last)",
      "Input \u001B[0;32mIn [20]\u001B[0m, in \u001B[0;36m<cell line: 8>\u001B[0;34m()\u001B[0m\n\u001B[1;32m      6\u001B[0m mu_t \u001B[38;5;241m=\u001B[39mnp\u001B[38;5;241m.\u001B[39mzeros(\u001B[38;5;241m4\u001B[39m)\n\u001B[1;32m      8\u001B[0m \u001B[38;5;28;01mfor\u001B[39;00m i \u001B[38;5;129;01min\u001B[39;00m \u001B[38;5;28mrange\u001B[39m(\u001B[38;5;241m4\u001B[39m):\n\u001B[0;32m----> 9\u001B[0m     wts_t[i] \u001B[38;5;241m=\u001B[39m (np\u001B[38;5;241m.\u001B[39marray(E_inv\u001B[38;5;241m*\u001B[39m(mu \u001B[38;5;241m-\u001B[39m r[i]\u001B[38;5;241m*\u001B[39mone))\u001B[38;5;241m.\u001B[39mT\u001B[38;5;241m/\u001B[39m(\u001B[43mB\u001B[49m \u001B[38;5;241m-\u001B[39m A\u001B[38;5;241m*\u001B[39mr[i]))[\u001B[38;5;241m0\u001B[39m]\n\u001B[1;32m     10\u001B[0m     vol_t[i] \u001B[38;5;241m=\u001B[39m np\u001B[38;5;241m.\u001B[39msqrt((C \u001B[38;5;241m-\u001B[39m \u001B[38;5;241m2\u001B[39m\u001B[38;5;241m*\u001B[39mr[i]\u001B[38;5;241m*\u001B[39mB \u001B[38;5;241m+\u001B[39m r[i]\u001B[38;5;241m*\u001B[39mr[i]\u001B[38;5;241m*\u001B[39mA)\u001B[38;5;241m/\u001B[39m((B \u001B[38;5;241m-\u001B[39m A\u001B[38;5;241m*\u001B[39mr[i])\u001B[38;5;241m*\u001B[39m\u001B[38;5;241m*\u001B[39m\u001B[38;5;241m2\u001B[39m))[\u001B[38;5;241m0\u001B[39m]\n\u001B[1;32m     11\u001B[0m     mu_t[i] \u001B[38;5;241m=\u001B[39m  (C \u001B[38;5;241m-\u001B[39m B\u001B[38;5;241m*\u001B[39mr[i])\u001B[38;5;241m/\u001B[39m(B \u001B[38;5;241m-\u001B[39m A\u001B[38;5;241m*\u001B[39mr[i])[\u001B[38;5;241m0\u001B[39m]\n",
      "\u001B[0;31mNameError\u001B[0m: name 'B' is not defined"
     ]
    }
   ],
   "source": [
    "# constructing the tangency portfolio\n",
    "\n",
    "r  = [0.005, 0.01, 0.015, 0.0175]\n",
    "wts_t = np.zeros(shape=(4,4))\n",
    "vol_t = np.zeros(4)\n",
    "mu_t =np.zeros(4)\n",
    "\n",
    "for i in range(4):\n",
    "    A, B, C = get_factors(one, mu, E_inv)\n",
    "    wts_t[i] = (np.array(E_inv*(mu - r[i]*one)).T/(B - A*r[i]))[0]\n",
    "    vol_t[i] = np.sqrt((C - 2*r[i]*B + r[i]*r[i]*A)/((B - A*r[i])**2))[0]\n",
    "    mu_t[i] =  (C - B*r[i])/(B - A*r[i])[0]\n",
    "\n"
   ]
  },
  {
   "cell_type": "code",
   "execution_count": 20,
   "metadata": {
    "collapsed": false,
    "pycharm": {
     "name": "#%%\n"
    }
   },
   "outputs": [],
   "source": []
  },
  {
   "cell_type": "code",
   "execution_count": 21,
   "metadata": {
    "collapsed": false,
    "pycharm": {
     "name": "#%%\n"
    }
   },
   "outputs": [
    {
     "data": {
      "text/plain": [
       "array([[0., 0., 0., 0.],\n",
       "       [0., 0., 0., 0.],\n",
       "       [0., 0., 0., 0.],\n",
       "       [0., 0., 0., 0.]])"
      ]
     },
     "execution_count": 21,
     "metadata": {},
     "output_type": "execute_result"
    }
   ],
   "source": [
    "wts_t"
   ]
  },
  {
   "cell_type": "code",
   "execution_count": 22,
   "metadata": {
    "collapsed": false,
    "pycharm": {
     "name": "#%%\n"
    }
   },
   "outputs": [],
   "source": [
    "# Plotting the true Efficient Frontier\n",
    "\n",
    "returns = np.array([i for i in range(1, 101)])/1000\n",
    "return_weights = np.array([optimal_weights(x) for x in returns])\n",
    "std_weights = np.array([get_std(return_weights[w,:], E) for w in range(100)])"
   ]
  },
  {
   "cell_type": "code",
   "execution_count": 22,
   "metadata": {
    "collapsed": false,
    "pycharm": {
     "name": "#%%\n"
    }
   },
   "outputs": [],
   "source": []
  },
  {
   "cell_type": "code",
   "execution_count": 23,
   "metadata": {
    "collapsed": false,
    "pycharm": {
     "name": "#%%\n"
    }
   },
   "outputs": [
    {
     "data": {
      "image/png": "[encoded data removed]",
      "text/plain": [
       "<Figure size 720x360 with 1 Axes>"
      ]
     },
     "metadata": {
      "needs_background": "light"
     },
     "output_type": "display_data"
    }
   ],
   "source": [
    "plt.figure(figsize=(10, 5))\n",
    "plt.scatter(std_weights, returns )\n",
    "plt.scatter(rho_opt, m_opt, c = 'r', marker='s')\n",
    "plt.xlabel('std')\n",
    "plt.ylabel('return')\n",
    "plt.legend(['Efficient frontier', 'rf - 100bps', 'rf - 175bps'])\n",
    "plt.title('Efficient frontier')\n",
    "plt.show()"
   ]
  },
  {
   "cell_type": "code",
   "execution_count": null,
   "metadata": {
    "collapsed": false,
    "pycharm": {
     "name": "#%%\n"
    }
   },
   "outputs": [],
   "source": []
  },
  {
   "cell_type": "code",
   "execution_count": null,
   "metadata": {
    "collapsed": false,
    "pycharm": {
     "name": "#%%\n"
    }
   },
   "outputs": [],
   "source": []
  }
 ],
 "metadata": {
  "kernelspec": {
   "display_name": "Python 3.7.4 ('base')",
   "language": "python",
   "name": "python3"
  },
  "language_info": {
   "codemirror_mode": {
    "name": "ipython",
    "version": 3
   },
   "file_extension": ".py",
   "mimetype": "text/x-python",
   "name": "python",
   "nbconvert_exporter": "python",
   "pygments_lexer": "ipython3",
   "version": "3.7.4"
  },
  "vscode": {
   "interpreter": {
    "hash": "d3e76a36ab4971f9586980165fce1e9f74b3faa16c4b73920f18c892869893a3"
   }
  }
 },
 "nbformat": 4,
 "nbformat_minor": 1
}